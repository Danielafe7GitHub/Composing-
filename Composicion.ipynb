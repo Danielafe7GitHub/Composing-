{
 "cells": [
  {
   "cell_type": "code",
   "execution_count": 1,
   "metadata": {},
   "outputs": [],
   "source": [
    "#!/usr/bin/python\n",
    "import random\n",
    "import numpy as np"
   ]
  },
  {
   "cell_type": "markdown",
   "metadata": {},
   "source": [
    "Tempo"
   ]
  },
  {
   "cell_type": "code",
   "execution_count": 2,
   "metadata": {},
   "outputs": [],
   "source": [
    "#Selección Tempo 40bmp -180bpm\n",
    "def selector_tempo(act):\n",
    "    act_max = 0.014\n",
    "    act_min = -0.002\n",
    "    _tempo = 40 + (((act - act_min) * (180-40)) / (act_max - act_min))\n",
    "    return round(_tempo)"
   ]
  },
  {
   "cell_type": "markdown",
   "metadata": {},
   "source": [
    "Octavas"
   ]
  },
  {
   "cell_type": "code",
   "execution_count": 4,
   "metadata": {},
   "outputs": [],
   "source": [
    "#Selección de Octavas Para las 2 melodías\n",
    "def selector_octavas(pal_alegr,pal_trist,e1,e2,pal_total):\n",
    "    js_max = 0.0031\n",
    "    js_min = -0.0091\n",
    "    js = (pal_alegr - pal_trist) / pal_total\n",
    "\n",
    "    _octava  = 4 + round((js - js_min)*(6-4)/(js_max - js_min))\n",
    "\n",
    "    if e1 == \"joy\" or e1 == \"trust\":\n",
    "        _octava_m1 =  _octava + 1\n",
    "    elif e1 == \"anger\" or e1 == \"fear\" or e1 == \"sadness\" or e1 == \"disgust\":\n",
    "        _octava_m1 =  _octava - 1\n",
    "\n",
    "    else:\n",
    "        _octava_m1 = _octava\n",
    "\n",
    "    if e2 == \"joy\" or e2 == \"trust\":\n",
    "        _octava_m2 =  _octava + 1\n",
    "    elif e2 == \"anger\" or e2 == \"fear\" or e2 == \"sadness\" or e2 == \"disgust\":\n",
    "        _octava_m2 =  _octava - 1\n",
    "\n",
    "    else:\n",
    "        _octava_m2 = _octava \n",
    "\n",
    "    return _octava,_octava_m1,_octava_m2"
   ]
  },
  {
   "cell_type": "markdown",
   "metadata": {},
   "source": [
    "Escala "
   ]
  },
  {
   "cell_type": "code",
   "execution_count": null,
   "metadata": {},
   "outputs": [],
   "source": [
    "Cmaj = []\n",
    "Cmin = []\n",
    "Cmindis = []\n",
    "Cmindis7 = []\n",
    "\n",
    "def selector_escala(e1,e2):\n",
    "    escala = []\n",
    "    key = 0\n",
    "    if e1 == \"joy\":\n",
    "        escala = Cmaj\n",
    "        key = 0\n",
    "    else if e1 == \"sadness\":\n",
    "        escala = Cmin\n",
    "        key = 1\n",
    "    else if e1 == \"anger\" or e1 = \"disgust\":\n",
    "        escala = Cmindis\n",
    "        key = 1\n",
    "    else if e1 == \"fear\" or e1 = \"surprise\":\n",
    "        escala = Cmindis7\n",
    "        key = 1\n",
    "    return escala,key"
   ]
  },
  {
   "cell_type": "markdown",
   "metadata": {},
   "source": [
    "Progresión de Acordes"
   ]
  },
  {
   "cell_type": "code",
   "execution_count": null,
   "metadata": {},
   "outputs": [],
   "source": [
    "major = [\"I IV V I\",\"iii vi ii V I\",\"I V IV\",\"I vi IV V\",\"I V vi IV\"]\n",
    "minor = [\"i VI III VII\",\"I VII VI VII\",\"i iv v i\",\"VI VII i i\",\"ii0 v i\"]\n",
    "\n",
    "def acordes(key):\n",
    "    if key  == 0:"
   ]
  },
  {
   "cell_type": "code",
   "execution_count": null,
   "metadata": {},
   "outputs": [],
   "source": []
  }
 ],
 "metadata": {
  "kernelspec": {
   "display_name": "Python 3",
   "language": "python",
   "name": "python3"
  },
  "language_info": {
   "codemirror_mode": {
    "name": "ipython",
    "version": 3
   },
   "file_extension": ".py",
   "mimetype": "text/x-python",
   "name": "python",
   "nbconvert_exporter": "python",
   "pygments_lexer": "ipython3",
   "version": "3.6.5"
  }
 },
 "nbformat": 4,
 "nbformat_minor": 2
}
