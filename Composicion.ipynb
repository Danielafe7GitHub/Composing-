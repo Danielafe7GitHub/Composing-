{
 "cells": [
  {
   "cell_type": "markdown",
   "metadata": {},
   "source": [
    "Importando Librerías"
   ]
  },
  {
   "cell_type": "code",
   "execution_count": 1,
   "metadata": {},
   "outputs": [],
   "source": [
    "#!/usr/bin/python\n",
    "import random\n",
    "import numpy as np"
   ]
  },
  {
   "cell_type": "markdown",
   "metadata": {},
   "source": [
    "Tempo: A más actividad más tempo"
   ]
  },
  {
   "cell_type": "code",
   "execution_count": 159,
   "metadata": {},
   "outputs": [
    {
     "name": "stdout",
     "output_type": "stream",
     "text": [
      "240\n"
     ]
    }
   ],
   "source": [
    "#Selección Tempo 40bmp -180bpm\n",
    "def selector_tempo(act):\n",
    "    act = round(act,3)\n",
    "    act = 0.034\n",
    "    act_max = 0.07\n",
    "    act_min = 0.006\n",
    "    _tempo = 100 + (((act - act_min) * (420-100)) / (act_max - act_min))\n",
    "    return round(_tempo)\n",
    "print(selector_tempo(act))"
   ]
  },
  {
   "cell_type": "markdown",
   "metadata": {},
   "source": [
    "Octavas"
   ]
  },
  {
   "cell_type": "code",
   "execution_count": 125,
   "metadata": {},
   "outputs": [],
   "source": [
    "#Selección de Octavas Para las 2 melodías\n",
    "def selector_octavas(pal_alegr,pal_trist,e1,e2,pal_total):\n",
    "    js_max = 0.0375  \n",
    "    js_min = -0.0009 \n",
    "    js = (pal_alegr - pal_trist) / pal_total\n",
    "\n",
    "    _octava  = 4 + round((js - js_min)*(6-4)/(js_max - js_min))\n",
    "\n",
    "    if e1 == \"joy\" or e1 == \"trust\":\n",
    "        _octava_m1 =  _octava + 1\n",
    "    elif e1 == \"anger\" or e1 == \"fear\" or e1 == \"sadness\" or e1 == \"disgust\":\n",
    "        _octava_m1 =  _octava - 1\n",
    "\n",
    "    else:\n",
    "        _octava_m1 = _octava\n",
    "\n",
    "    if e2 == \"joy\" or e2 == \"trust\":\n",
    "        _octava_m2 =  _octava + 1\n",
    "    elif e2 == \"anger\" or e2 == \"fear\" or e2 == \"sadness\" or e2 == \"disgust\":\n",
    "        _octava_m2 =  _octava - 1\n",
    "\n",
    "    else:\n",
    "        _octava_m2 = _octava \n",
    "\n",
    "    return _octava_m1,_octava_m2"
   ]
  },
  {
   "cell_type": "markdown",
   "metadata": {},
   "source": [
    "Pitch Countour"
   ]
  },
  {
   "cell_type": "code",
   "execution_count": 126,
   "metadata": {},
   "outputs": [],
   "source": [
    "def pitch_countour(positives,negatives):\n",
    "    ratio = positives / negatives\n",
    "    if ratio > 1:\n",
    "        return 0\n",
    "    else:\n",
    "        return 1"
   ]
  },
  {
   "cell_type": "markdown",
   "metadata": {},
   "source": [
    "Escala "
   ]
  },
  {
   "cell_type": "code",
   "execution_count": 127,
   "metadata": {},
   "outputs": [],
   "source": [
    "Cmaj_key =     [\"C\",\"D\",\"E\",\"F\",\"G\",\"A\",\"B\"] \n",
    "Cmin_key =     [\"C\",\"D\",\"Eb\",\"F\",\"G\",\"Ab\",\"Bb\"] \n",
    "\n",
    "def selector_escala(e1):\n",
    "    escala = []\n",
    "    progresion = 0\n",
    "    notas = \"\"\n",
    "    if e1 == \"joy\":\n",
    "        escala = \"Cmaj\"\n",
    "        notas = Cmaj_key\n",
    "        progresion = 0 \n",
    "    elif e1 == \"sadness\":\n",
    "        escala = \"Cmin\"\n",
    "        notas = Cmin_key\n",
    "        progresion = 1\n",
    "    elif e1 == \"anger\":\n",
    "        escala = \"Cmindis\"\n",
    "        notas = Cmin_key\n",
    "        progresion = 1\n",
    "    elif e1 == \"disgust\":\n",
    "        escala = \"Cmindis\"\n",
    "        notas = Cmin_key\n",
    "        progresion = 1\n",
    "    elif e1 == \"fear\":\n",
    "        escala = \"Cmindis7\"\n",
    "        notas = Cmin_key\n",
    "        progresion = 1\n",
    "    elif e1 == \"surprise\":\n",
    "        escala = \"Cmindis7\"\n",
    "        notas = Cmin_key\n",
    "        progresion = 1\n",
    "    return escala,progresion,notas"
   ]
  },
  {
   "cell_type": "markdown",
   "metadata": {},
   "source": [
    "Progresión de Acordes"
   ]
  },
  {
   "cell_type": "code",
   "execution_count": 128,
   "metadata": {},
   "outputs": [],
   "source": [
    "#major = [\"I IV V I\",\"iii vi ii V I\",\"I V IV\",\"I vi IV V\",\"I V vi IV\"]\n",
    "#minor = [\"i VI III VII\",\"I VII VI VII\",\"i iv v i\",\"VI VII i i\",\"ii v i\"]\n",
    "\n",
    "major = [[1,4,5,1],[3,6,2,5,1],[1,5,4],[1,6,4,5],[1,5,6,4]]\n",
    "minor = [[1,6,3,7],[1,7,6,7],[1,4,5,1],[6,7,1,1],[2,5,1]]\n",
    "\n",
    "def progresion(escala,progresion):\n",
    "    if progresion  == 0: \n",
    "        return major[0] #random\n",
    "    else:\n",
    "        return minor[0]"
   ]
  },
  {
   "cell_type": "markdown",
   "metadata": {},
   "source": [
    "Construyendo Progresion de Acordes"
   ]
  },
  {
   "cell_type": "code",
   "execution_count": 129,
   "metadata": {},
   "outputs": [],
   "source": [
    "def acordes(escala,_progresion,notas):\n",
    "    prog = progresion(escala,_progresion)\n",
    "    values = []\n",
    "    chords = []\n",
    "    for chord in prog:\n",
    "        values.append(notas[(chord - 1) % 7])     #Nota base\n",
    "        values.append(notas[(chord - 1 + 2) % 7]) #Su tercera\n",
    "        if escala == \"Cmindis\":\n",
    "            values.append(notas[(chord - 1 + 4) % 7] + 'b')\n",
    "        if escala == \"Cmindis7\":\n",
    "            values.append(notas[(chord - 1 + 4) % 7] + 'b')\n",
    "            values.append(notas[(chord - 1 + 5) % 7])\n",
    "        else:\n",
    "            values.append(notas[(chord - 1 + 4) % 7]) #Su quinta\n",
    "        chords.append(values)\n",
    "        values = []\n",
    "    return chords"
   ]
  },
  {
   "cell_type": "markdown",
   "metadata": {},
   "source": [
    "Módulo del Ritmo"
   ]
  },
  {
   "cell_type": "code",
   "execution_count": 130,
   "metadata": {},
   "outputs": [],
   "source": [
    "duracion_1 = [1]   \n",
    "duracion_2 = [0.5,0.5]  \n",
    "duracion_3 = [0.25,0.25,0.25,0.25]\n",
    "duracion_4 = [0.125,0.125,0.25,0.5]\n",
    "duracion_5 = [0.0625,0.0625,0.0625,0.0625,0.25,0.5]\n",
    "\n",
    "time_signature = 4\n",
    "\n",
    "def ritmo(densidades):\n",
    "    num_secciones = len(densidades)\n",
    "    measure = []\n",
    "    patron_ritmo = []\n",
    "    for i in range (0,num_secciones):\n",
    "        if densidades[i] == 1:\n",
    "            measure = (duracion_1)\n",
    "        elif densidades[i] == 2:\n",
    "            measure = (duracion_2)\n",
    "        elif densidades[i] == 3:\n",
    "             measure = (duracion_3)\n",
    "        elif densidades[i] == 4:\n",
    "             measure = (duracion_3)\n",
    "        elif densidades[i] == 5:\n",
    "             measure = (duracion_3)\n",
    "        patron_ritmo.append(measure)\n",
    "        assert (np.sum(measure) == 1)\n",
    "        measure = []\n",
    "    return patron_ritmo"
   ]
  },
  {
   "cell_type": "markdown",
   "metadata": {},
   "source": [
    "Módulo Melodía :Ponemos notas a al patrón de ritmo"
   ]
  },
  {
   "cell_type": "code",
   "execution_count": 131,
   "metadata": {
    "scrolled": true
   },
   "outputs": [],
   "source": [
    "def melodia(patron_ritmo,acordes,pitch_contour,escala):\n",
    "    pitch = []\n",
    "    patron_melodia = []\n",
    "    it = 0\n",
    "    r = 0\n",
    "    for measure in patron_ritmo:\n",
    "        pitch.append(acordes[it][0])       \n",
    "        if len(measure) > 1:\n",
    "            for nota in range (1,len(measure)):\n",
    "                if measure[nota] > 0.125: #change\n",
    "                     pitch.append(acordes[it][0]) #random\n",
    "                else:\n",
    "                    if pitch_contour == 0: \n",
    "                        pitch.append(escala[(escala.index(pitch[nota-1]) + 1) % 7])\n",
    "                    else: \n",
    "                        pitch.append(escala[(escala.index(pitch[nota-1]) - 1) % 7])\n",
    "        it += 1\n",
    "        patron_melodia.append(pitch)\n",
    "        pitch = []\n",
    "    return  patron_melodia"
   ]
  },
  {
   "cell_type": "markdown",
   "metadata": {},
   "source": [
    "Split Densidades"
   ]
  },
  {
   "cell_type": "code",
   "execution_count": 132,
   "metadata": {},
   "outputs": [],
   "source": [
    "def split_densities(densidad):\n",
    "    split = []\n",
    "    desplazamiento = (max(densidad) - min(densidad)) / 5\n",
    "    for seccion_densidad in densidad: \n",
    "        flag = 0\n",
    "        tmp1 =  min(densidad)\n",
    "        tmp2 =  min(densidad) + desplazamiento\n",
    "        if flag != 1 and seccion_densidad >= tmp1 and seccion_densidad < tmp2:\n",
    "            split.append(1) \n",
    "            flag = 1\n",
    "        else:\n",
    "            tmp1 = tmp2 + desplazamiento\n",
    "        if flag != 1 and seccion_densidad >= tmp2 and seccion_densidad < tmp1:\n",
    "            split.append(2)\n",
    "            flag = 1\n",
    "        else:\n",
    "            tmp2 = tmp1 + desplazamiento\n",
    "        if flag != 1 and seccion_densidad >= tmp1 and seccion_densidad < tmp2:\n",
    "            split.append(3)\n",
    "            flag = 1\n",
    "        else:\n",
    "            tmp1 = tmp2 + desplazamiento\n",
    "        if flag != 1 and seccion_densidad >= tmp2 and seccion_densidad < tmp1:\n",
    "            split.append(4)\n",
    "            flag = 1\n",
    "        else:\n",
    "            tmp2 = tmp1 + desplazamiento\n",
    "        if flag != 1 and seccion_densidad >= tmp1 and seccion_densidad <= max(densidad): #No 100 el des encaja\n",
    "            split.append(5)\n",
    "            flag = 1\n",
    "    return split"
   ]
  },
  {
   "cell_type": "markdown",
   "metadata": {},
   "source": [
    "Unimos Todo: Mano izquierda: Acordes y Mano derecha: Melodía"
   ]
  },
  {
   "cell_type": "code",
   "execution_count": 133,
   "metadata": {},
   "outputs": [],
   "source": [
    "def modelo(patron_melodia,patron_ritmo,escala,octava,tempo,voz,acordes):\n",
    "    output = \"\"\n",
    "    measure = \"\"\n",
    "    bar = \"\"\n",
    "    chords = \"\"\n",
    "    c = \"\"\n",
    "    output += escala + \"  \"\n",
    "    output += \"V\"+str(voz) + \" \"\n",
    "    output += \"T\" + str(tempo) + \" \"\n",
    "    \n",
    "    #Mano izquiera\n",
    "    for triada in acordes:\n",
    "        for nota in triada:\n",
    "            c += nota + \"/1\" + '+'\n",
    "        c = c[:-1]\n",
    "        chords += c + \"  \"\n",
    "        c = \"\"\n",
    "    #Mano Derecha\n",
    "    for melodia,ritmo in zip(patron_melodia,patron_ritmo):\n",
    "        for nota,tiempo in zip(melodia,ritmo):\n",
    "            measure += nota + str(octava)+\"/\" + str(tiempo) + \"   \" \n",
    "        bar += str(measure) + str(measure) \n",
    "        measure = \"\"\n",
    "\n",
    "    right_hand = output + bar\n",
    "    left_hand = output + chords\n",
    "    print(left_hand) \n",
    "    print(right_hand) \n",
    "    return right_hand,left_hand"
   ]
  },
  {
   "cell_type": "markdown",
   "metadata": {},
   "source": [
    "Obtención de emociones del Texto"
   ]
  },
  {
   "cell_type": "code",
   "execution_count": 134,
   "metadata": {},
   "outputs": [],
   "source": [
    "anger =  679\n",
    "fear =  1016\n",
    "surprise =  445\n",
    "sadness =  1057\n",
    "joy =  554\n",
    "disgust =  1109\n",
    "\n",
    "\n",
    "positives =  1341\n",
    "negatives =  2493\n",
    "pal_total =  27598\n"
   ]
  },
  {
   "cell_type": "markdown",
   "metadata": {},
   "source": [
    "Emociones Predominates en el Texto"
   ]
  },
  {
   "cell_type": "code",
   "execution_count": 135,
   "metadata": {},
   "outputs": [],
   "source": [
    "e1 = \"joy\"\n",
    "e2 = \"fear\""
   ]
  },
  {
   "cell_type": "markdown",
   "metadata": {},
   "source": [
    "Calculando valores adicionales del Libro"
   ]
  },
  {
   "cell_type": "code",
   "execution_count": 136,
   "metadata": {},
   "outputs": [],
   "source": [
    "activas = (joy/pal_total + anger/pal_total) \n",
    "pasivas = sadness/pal_total\n",
    "act = (activas - pasivas)"
   ]
  },
  {
   "cell_type": "markdown",
   "metadata": {},
   "source": [
    "Inicialización de Valores"
   ]
  },
  {
   "cell_type": "code",
   "execution_count": 138,
   "metadata": {},
   "outputs": [
    {
     "name": "stdout",
     "output_type": "stream",
     "text": [
      "Tempo:  40\n",
      "Octavas:  4\n",
      "Escala:  Cmaj\n"
     ]
    }
   ],
   "source": [
    "tempo = selector_tempo(act)\n",
    "o1,o2 = selector_octavas(joy,sadness,e1,e2,pal_total)\n",
    "pitch = pitch_countour(positives,negatives)\n",
    "escala,prog,notas = selector_escala(e1)\n",
    "progr = progresion(escala,progresion)\n",
    "chords = acordes(escala,progr,notas)\n",
    "print(\"Tempo: \",tempo)\n",
    "print(\"Octavas: \",o1)\n",
    "print(\"Escala: \",escala)"
   ]
  },
  {
   "cell_type": "markdown",
   "metadata": {},
   "source": [
    "Evaluando Densidades"
   ]
  },
  {
   "cell_type": "code",
   "execution_count": 16,
   "metadata": {},
   "outputs": [],
   "source": [
    "de1 =  [0.049, 0.051, 0.047, 0.058]\n",
    "de2 =  [0.047, 0.049, 0.04, 0.048]\n",
    "\n",
    "densidad1 = split_densities(de1)\n",
    "patron_ritmo = ritmo(densidad1)\n",
    "patron_melodia = melodia(patron_ritmo,chords,pitch,notas)"
   ]
  },
  {
   "cell_type": "markdown",
   "metadata": {},
   "source": [
    "Generación de Melodía (e1) , (e2) , acordes"
   ]
  },
  {
   "cell_type": "code",
   "execution_count": 17,
   "metadata": {},
   "outputs": [
    {
     "name": "stdout",
     "output_type": "stream",
     "text": [
      "Cmindis7  V0 T123 C/1+Eb/1+Gb/1+Ab/1  Ab/1+C/1+Ebb/1+F/1  Eb/1+G/1+Bbb/1+C/1  Bb/1+D/1+Fb/1+G/1  \n",
      "Cmindis7  V0 T123 C3/1   C3/1   Ab3/0.5   Ab3/0.5   Ab3/0.5   Ab3/0.5   Eb3/1   Eb3/1   Bb3/0.25   Bb3/0.25   Bb3/0.25   Bb3/0.25   Bb3/0.25   Bb3/0.25   Bb3/0.25   Bb3/0.25   \n"
     ]
    }
   ],
   "source": [
    "right_hand,left_hand = modelo(patron_melodia,patron_ritmo,escala,o1,tempo,0,chords)"
   ]
  },
  {
   "cell_type": "markdown",
   "metadata": {},
   "source": [
    "Melodía (e2)"
   ]
  },
  {
   "cell_type": "code",
   "execution_count": null,
   "metadata": {},
   "outputs": [],
   "source": []
  },
  {
   "cell_type": "markdown",
   "metadata": {},
   "source": [
    "Densidades"
   ]
  },
  {
   "cell_type": "code",
   "execution_count": null,
   "metadata": {},
   "outputs": [],
   "source": [
    "Arreglar distribucion . Analizar densidades limpiando lematizando todito :)    \n",
    "Si termina en 8 0 16 . aumentar un measure mas con 1 o un acorde \n",
    "Limpia el texto y si densidadades con respecto a num plab o a la cant de emociones OK.\n",
    "cambiar valores del tempo y octavas por los nuestros :)\n",
    "Se divide el texto en secciones.\n",
    "De cada seccion calcular . Cuántas palabras hay con e1 e2\n",
    "Tendrás un array [20 10 40 50 ... 80]\n",
    "Si el número es > entonces, más densidad de notas, porque hay más de esa emoción en dicha seccio\n",
    "ver ideas cel"
   ]
  }
 ],
 "metadata": {
  "kernelspec": {
   "display_name": "Python 3",
   "language": "python",
   "name": "python3"
  },
  "language_info": {
   "codemirror_mode": {
    "name": "ipython",
    "version": 3
   },
   "file_extension": ".py",
   "mimetype": "text/x-python",
   "name": "python",
   "nbconvert_exporter": "python",
   "pygments_lexer": "ipython3",
   "version": "3.6.5"
  }
 },
 "nbformat": 4,
 "nbformat_minor": 2
}
