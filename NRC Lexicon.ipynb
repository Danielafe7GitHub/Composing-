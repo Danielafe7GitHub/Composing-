{
 "cells": [
  {
   "cell_type": "code",
   "execution_count": 15,
   "metadata": {},
   "outputs": [],
   "source": [
    "#!/usr/bin/python\n",
    "import math\n",
    "import nltk\n",
    "from nltk.corpus import wordnet\n",
    "from nltk.corpus import stopwords\n",
    "from math import floor\n",
    "from nltk.tokenize import RegexpTokenizer\n",
    "from nltk.stem.porter import PorterStemmer\n"
   ]
  },
  {
   "cell_type": "code",
   "execution_count": 16,
   "metadata": {},
   "outputs": [],
   "source": [
    "#Cargando nrc_lexicon al vector ncr_lexicon [[palabra,anger,antici,disgu,fear,joy,negati,posi,sadness,surprise,trust],[...]]\n",
    "n = open(\"nrc.txt\", 'r+')\n",
    "linea = n.readline()\n",
    "pal_senti_emoci = []\n",
    "nrc_lexicon = []\n"
   ]
  },
  {
   "cell_type": "code",
   "execution_count": 17,
   "metadata": {},
   "outputs": [],
   "source": [
    "#No olvides :Añadir un enter al ultimo elemento de nrc.txt\n",
    "while linea != \"\\n\":\n",
    "    tokens = nltk.word_tokenize(linea)\n",
    "    for token in tokens:\n",
    "        pal_senti_emoci.append(token)\n",
    "    nrc_lexicon.append(pal_senti_emoci)\n",
    "    pal_senti_emoci = []\n",
    "    linea = n.readline()\n",
    "n.close()"
   ]
  },
  {
   "cell_type": "code",
   "execution_count": 18,
   "metadata": {},
   "outputs": [],
   "source": [
    "#Definiendo 8 emociones básicas + 2 sentimientos\n",
    "positive = 0 \n",
    "negative = 0\n",
    "anger = 0 \n",
    "fear = 0 \n",
    "surprise = 0 \n",
    "sadness = 0 \n",
    "joy = 0  \n",
    "disgust = 0"
   ]
  },
  {
   "cell_type": "code",
   "execution_count": 19,
   "metadata": {},
   "outputs": [],
   "source": [
    "#Definiendo scores\n",
    "num_pal = 0\n",
    "num_pal_emo = 0\n",
    "oe = 0 \n",
    "e1 = 0 \n",
    "e2 = 0"
   ]
  },
  {
   "cell_type": "code",
   "execution_count": 20,
   "metadata": {},
   "outputs": [],
   "source": [
    "#Funcion nrc\n",
    "def _nrc(pal_novela):\n",
    "    #print (\"Pal analizada:  \"+pal_novela)\n",
    "    global positive \n",
    "    global negative \n",
    "    global anger  \n",
    "    global fear  \n",
    "    global anticipation \n",
    "    global trust \n",
    "    global surprise \n",
    "    global sadness \n",
    "    global joy  \n",
    "    global disgust\n",
    "    global num_pal \n",
    "    global num_pal_emo \n",
    " \n",
    "    for emoWord in nrc_lexicon:\n",
    "        if emoWord[0] == pal_novela:\n",
    "            num_pal_emo += 1\n",
    "            if emoWord[1] == \"1\":\n",
    "                positive += 1\n",
    "            if emoWord[2] == \"1\":\n",
    "                negative += 1\n",
    "            if emoWord[3] == \"1\":\n",
    "                anger += 1\n",
    "            #if emoWord[4] == \"1\":\n",
    "                #anticipation += 1\n",
    "            if emoWord[5] == \"1\":\n",
    "                disgust += 1\n",
    "            if emoWord[6] == \"1\":\n",
    "                fear += 1\n",
    "            if emoWord[7] == \"1\":\n",
    "                joy += 1\n",
    "            if emoWord[8] == \"1\":\n",
    "                sadness += 1\n",
    "            if emoWord[9] == \"1\":\n",
    "                surprise += 1\n",
    "            #if emoWord[10] == \"1\":\n",
    "                #trust += 1"
   ]
  },
  {
   "cell_type": "markdown",
   "metadata": {},
   "source": [
    "Compila lo siguiente, si vas a cambiar de libro, para que se limpie"
   ]
  },
  {
   "cell_type": "code",
   "execution_count": 44,
   "metadata": {},
   "outputs": [],
   "source": [
    "positive = 0 \n",
    "negative = 0\n",
    "anger = 0 \n",
    "fear = 0 \n",
    "surprise = 0 \n",
    "sadness = 0 \n",
    "joy = 0  \n",
    "disgust = 0\n",
    "num_pal = 0\n",
    "num_pal_emo = 0\n",
    "oe = 0 \n",
    "e1 = 0 \n",
    "e2 = 0"
   ]
  },
  {
   "cell_type": "code",
   "execution_count": 45,
   "metadata": {},
   "outputs": [
    {
     "name": "stdout",
     "output_type": "stream",
     "text": [
      "done...\n"
     ]
    }
   ],
   "source": [
    "#Leyendo toda la novela literaria\n",
    "stopWords = set(stopwords.words('english'))\n",
    "tokenizer = RegexpTokenizer(r'\\w+')\n",
    "porter = PorterStemmer()\n",
    "f = open(\"Libros/william.txt\", 'r+')\n",
    "linea = f.readline()\n",
    "while linea != \"\":    \n",
    "    if len(linea) > 1:\n",
    "            tokens = tokenizer.tokenize(linea)\n",
    "            #print(tokens)\n",
    "            #tokens = nltk.word_tokenize(linea)\n",
    "            for token in tokens:\n",
    "                #token = porter.stem(token)\n",
    "                num_pal += 1 \n",
    "                _nrc(token)                    \n",
    "        \n",
    "    linea = f.readline()\n",
    "f.close()\n",
    "Palabras_SS = num_pal #Valor necesario para SubSeccion\n",
    "print(\"done...\")"
   ]
  },
  {
   "cell_type": "code",
   "execution_count": 46,
   "metadata": {},
   "outputs": [
    {
     "name": "stdout",
     "output_type": "stream",
     "text": [
      "385\n",
      "446\n",
      "409\n",
      "425\n",
      "791\n",
      "308\n"
     ]
    }
   ],
   "source": [
    "print (anger)\n",
    "print (fear)\n",
    "print (surprise)\n",
    "print (sadness)\n",
    "print (joy)\n",
    "print (disgust)"
   ]
  },
  {
   "cell_type": "code",
   "execution_count": 14,
   "metadata": {},
   "outputs": [
    {
     "name": "stdout",
     "output_type": "stream",
     "text": [
      "anger =  671\n",
      "fear =  936\n",
      "surprise =  468\n",
      "sadness =  887\n",
      "joy =  581\n",
      "dis =  512\n",
      "oe =  0\n",
      "pal_positivas =  1631\n",
      "pal_negativas =  1663\n",
      "pal_total =  39077\n",
      "pal_total_emo =  8984\n"
     ]
    }
   ],
   "source": [
    "print (\"anger = \",anger)\n",
    "print (\"fear = \",fear)\n",
    "print (\"surprise = \",surprise)\n",
    "print (\"sadness = \",sadness)\n",
    "print (\"joy = \",joy)\n",
    "print (\"disgust = \",disgust)\n",
    "print (\"oe = \",oe)\n",
    "print (\"pal_positivas = \",positive)\n",
    "print (\"pal_negativas = \",negative)\n",
    "print (\"pal_total = \",num_pal)\n",
    "print (\"pal_total_emo = \",num_pal_emo)"
   ]
  },
  {
   "cell_type": "code",
   "execution_count": 45,
   "metadata": {},
   "outputs": [],
   "source": [
    "#Cambiando cantidades\n",
    "num_pal_ = num_pal\n",
    "joy_ = joy\n",
    "sadness_= sadness\n",
    "fear_ = fear\n",
    "trust_ = trust\n",
    "num_pal_  -= (anticipation)\n",
    "#_fear = trust\n",
    "#_trust = anticipation\n",
    "\n",
    "#Pan\n",
    "#trust_ = anticipation\n",
    "#joy_ = trust\n",
    "#Señor de las Moscas lord_total.txt\n",
    "#sadness_ = trust #Funciona bien asi @@\n",
    "\n",
    "#The road\n",
    "fear_ = sadness\n",
    "sadness_ = disgust\n",
    "\n"
   ]
  },
  {
   "cell_type": "code",
   "execution_count": 46,
   "metadata": {},
   "outputs": [
    {
     "name": "stdout",
     "output_type": "stream",
     "text": [
      "activity:  0.016\n",
      "joy-sad:  0.0018\n"
     ]
    }
   ],
   "source": [
    "#Calculando Activity score && Joy-Sad\n",
    "activas = (joy_/num_pal_ + anger/num_pal_) \n",
    "pasivas = sadness_/num_pal_\n",
    "\n",
    "print(\"activity: \",(round(activas-pasivas,3)))\n",
    "print(\"joy-sad: \",round(joy_/num_pal_ - sadness_/num_pal_,4))"
   ]
  },
  {
   "cell_type": "code",
   "execution_count": 50,
   "metadata": {},
   "outputs": [
    {
     "name": "stdout",
     "output_type": "stream",
     "text": [
      "activity:  0.008\n",
      "joy-sad:  -0.0065\n"
     ]
    }
   ],
   "source": [
    "#Calculando Activity score && Joy-Sad\n",
    "activas = (joy/num_pal + anger/num_pal) \n",
    "pasivas = sadness/num_pal\n",
    "\n",
    "print(\"activity: \",(round(activas-pasivas,3)))\n",
    "print(\"joy-sad: \",round(joy/num_pal - sadness/num_pal,4))"
   ]
  },
  {
   "cell_type": "code",
   "execution_count": null,
   "metadata": {},
   "outputs": [],
   "source": []
  },
  {
   "cell_type": "code",
   "execution_count": 65,
   "metadata": {},
   "outputs": [
    {
     "name": "stdout",
     "output_type": "stream",
     "text": [
      "activity:  0.014416648904218418\n",
      "joy-sad:  0.003080977386788612\n"
     ]
    }
   ],
   "source": []
  },
  {
   "cell_type": "code",
   "execution_count": 121,
   "metadata": {},
   "outputs": [],
   "source": [
    "#Emociones por subsecciones\n"
   ]
  },
  {
   "cell_type": "code",
   "execution_count": 10,
   "metadata": {},
   "outputs": [],
   "source": [
    "tokenizer = RegexpTokenizer(r'\\w+')\n",
    "\n",
    "#Dividiendo la novela por subsecciones (16)\n",
    "def read_file(cant_pal ,can_texto,total,num_secciones):\n",
    "    global positive \n",
    "    global negative \n",
    "    global anger  \n",
    "    global fear  \n",
    "    global anticipation \n",
    "    global trust \n",
    "    global surprise \n",
    "    global sadness \n",
    "    global joy  \n",
    "    global disgust\n",
    "    global num_pal \n",
    "    global num_pal_emo\n",
    "    global oe\n",
    "    global e1\n",
    "    global e2\n",
    "    #global e3    \n",
    "\n",
    "\n",
    "    positive = 0\n",
    "    negative = 0\n",
    "    anger = 0\n",
    "    fear = 0\n",
    "    anticipation = 0\n",
    "    trust = 0\n",
    "    surprise = 0\n",
    "    sadness = 0\n",
    "    joy = 0\n",
    "    disgust = 0\n",
    "    num_pal = 0\n",
    "    num_pal_emo = 0\n",
    "    oe = 0\n",
    "    e1 = 0\n",
    "    e2 = 0\n",
    "    #e3 = 0\n",
    "    doe = [] #X densidades de Overall emotion; X = Num secciones\n",
    "    de1 = []\n",
    "    de2 = []\n",
    "\n",
    "\n",
    "\n",
    "    f = open(\"Libros/dark_total.txt\", 'r+')\n",
    "    linea = f.readline()\n",
    "    seccion = 1\n",
    "    t = can_texto\n",
    "\n",
    "    \n",
    "    while linea != \"\":\n",
    "        if len(linea) > 1 :\n",
    "            \n",
    "            tokens = nltk.word_tokenize(linea)\n",
    "            #tokens = tokenizer.tokenize(linea)\n",
    "            for token in tokens:\n",
    "                cant_pal += 1   \n",
    "                num_pal += 1 \n",
    "                _nrc(token)\n",
    "                #print(\"t: \",t, \"cant \",cant_pal)\n",
    "                if cant_pal == t:\n",
    "                   #Imprimimos\n",
    "                    print(\"--------\",seccion,\"----------\") \n",
    "                    #Peter Pan cmbiando emociones\n",
    "                    '''tmp = anticipation\n",
    "                    anticipation = joy\n",
    "                    joy = trust\n",
    "                    trust = tmp'''\n",
    "                    \n",
    "                    #The Road cmbiando emociones\n",
    "                    #tmp = disgust\n",
    "                    #disgust = fear\n",
    "                    #fear = sadness\n",
    "                    #sadness = tmp\n",
    "\n",
    "                    '''print (\"anger = \",anger)\n",
    "                    print (\"fear = \",fear)\n",
    "                    print (\"surprise = \",surprise)\n",
    "                    print (\"sadness = \",sadness)\n",
    "                    print (\"joy = \",joy)\n",
    "                    print (\"dis = \",disgust)\n",
    "                    print (\"antici = \",anticipation)\n",
    "                    print (\"trust = \",trust)\n",
    "                    print (\"pal_positivas = \",positive)\n",
    "                    print (\"pal_negativas = \",negative)\n",
    "                    print (\"pal_total = \",num_pal)\n",
    "                    print (\"pal_total_emo = \",num_pal_emo)'''\n",
    "                    \n",
    "                    \n",
    "                    #Calculando Densidades\n",
    "                    list_emo = []\n",
    "                    list_emo.append(anger)\n",
    "                    list_emo.append(fear)\n",
    "                    list_emo.append(surprise)\n",
    "                    list_emo.append(sadness)\n",
    "                    list_emo.append(joy)\n",
    "                    list_emo.append(disgust)\n",
    "                    list_emo.append(anticipation)\n",
    "                    list_emo.append(trust)\n",
    "\n",
    "                    list_emo = sorted(list_emo)\n",
    "                    e1_emo = list_emo[len(list_emo)-1]\n",
    "                    e2_emo = list_emo[len(list_emo)-2]\n",
    "                    #e3_emo = list_emo[len(list_emo)-3]\n",
    "                    oe = round(num_pal_emo / num_pal,3) #overall density\n",
    "                    e1 = round(e1_emo / num_pal,3)\n",
    "                    e2 = round(e2_emo / num_pal,3)\n",
    "                    #e3 = round(e3_emo / num_pal,3)\n",
    "\n",
    "                    #Añadiendo Densidades\n",
    "                    doe.append(oe)\n",
    "                    de1.append(e1)\n",
    "                    de2.append(e2)\n",
    "   \n",
    "                    \n",
    "                    #Reinician los valores\n",
    "                    positive = 0\n",
    "                    negative = 0\n",
    "                    anger = 0\n",
    "                    fear = 0\n",
    "                    anticipation = 0\n",
    "                    trust = 0\n",
    "                    surprise = 0\n",
    "                    sadness = 0\n",
    "                    joy = 0\n",
    "                    disgust = 0\n",
    "                    oe = 0\n",
    "                    e1 = 0\n",
    "                    e2 = 0\n",
    "                    e3 = 0\n",
    "                    num_pal = 0\n",
    "                    num_pal_emo = 0\n",
    "                    cant_pal = t\n",
    "                    if seccion == (num_secciones - 1):\n",
    "                        t = total\n",
    "                    else:\n",
    "                        t = t + can_texto\n",
    "                    seccion += 1\n",
    "                    \n",
    "        linea = f.readline()\n",
    "    #print(\"Oe\")\n",
    "    print(\"oe_list = \",doe)\n",
    "    #print(\"E1\")\n",
    "    print(\"e1_list = \",de1)\n",
    "    #print(\"E2\")\n",
    "    print(\"e2_list = \",de2)\n",
    "\n",
    "       \n",
    "    f.close()\n",
    "\n"
   ]
  },
  {
   "cell_type": "code",
   "execution_count": 12,
   "metadata": {},
   "outputs": [
    {
     "name": "stdout",
     "output_type": "stream",
     "text": [
      "Num Pal:  45931\n",
      "-------- 1 ----------\n",
      "-------- 2 ----------\n",
      "-------- 3 ----------\n",
      "-------- 4 ----------\n",
      "-------- 5 ----------\n",
      "-------- 6 ----------\n",
      "-------- 7 ----------\n",
      "-------- 8 ----------\n",
      "oe_list =  [0.188, 0.2, 0.178, 0.193, 0.188, 0.164, 0.192, 0.188]\n",
      "e1_list =  [0.02, 0.022, 0.02, 0.019, 0.023, 0.016, 0.024, 0.026]\n",
      "e2_list =  [0.019, 0.02, 0.018, 0.018, 0.02, 0.015, 0.02, 0.024]\n",
      "done...\n"
     ]
    }
   ],
   "source": [
    "#Obteniendo los datos por subseccion\n",
    "print(\"Num Pal: \",Palabras_SS)\n",
    "num_secciones = 8\n",
    "read_file(0,floor(Palabras_SS/num_secciones),Palabras_SS,num_secciones)\n",
    "print(\"done...\")"
   ]
  },
  {
   "cell_type": "code",
   "execution_count": null,
   "metadata": {},
   "outputs": [],
   "source": []
  },
  {
   "cell_type": "code",
   "execution_count": null,
   "metadata": {},
   "outputs": [],
   "source": []
  },
  {
   "cell_type": "code",
   "execution_count": null,
   "metadata": {},
   "outputs": [],
   "source": []
  },
  {
   "cell_type": "code",
   "execution_count": null,
   "metadata": {},
   "outputs": [],
   "source": []
  }
 ],
 "metadata": {
  "kernelspec": {
   "display_name": "Python 3",
   "language": "python",
   "name": "python3"
  },
  "language_info": {
   "codemirror_mode": {
    "name": "ipython",
    "version": 3
   },
   "file_extension": ".py",
   "mimetype": "text/x-python",
   "name": "python",
   "nbconvert_exporter": "python",
   "pygments_lexer": "ipython3",
   "version": "3.6.5"
  }
 },
 "nbformat": 4,
 "nbformat_minor": 2
}
