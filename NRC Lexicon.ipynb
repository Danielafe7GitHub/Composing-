{
 "cells": [
  {
   "cell_type": "markdown",
   "metadata": {},
   "source": [
    "Importando Librerías"
   ]
  },
  {
   "cell_type": "code",
   "execution_count": 1,
   "metadata": {},
   "outputs": [],
   "source": [
    "#!/usr/bin/python\n",
    "import math\n",
    "import nltk\n",
    "from nltk.corpus import wordnet\n",
    "from nltk.corpus import stopwords\n",
    "from math import floor\n",
    "from nltk.tokenize import RegexpTokenizer\n",
    "from nltk.stem.snowball import SnowballStemmer"
   ]
  },
  {
   "cell_type": "markdown",
   "metadata": {},
   "source": [
    "Cargado NRC Lexicon de Emociones"
   ]
  },
  {
   "cell_type": "code",
   "execution_count": 2,
   "metadata": {},
   "outputs": [],
   "source": [
    "n = open(\"nrc.txt\", 'r+')\n",
    "linea = n.readline()\n",
    "pal_senti_emoci = []\n",
    "nrc_lexicon = []"
   ]
  },
  {
   "cell_type": "markdown",
   "metadata": {},
   "source": [
    "Transformando Lexicon a vectores"
   ]
  },
  {
   "cell_type": "code",
   "execution_count": 3,
   "metadata": {},
   "outputs": [],
   "source": [
    "#No olvides :Añadir un enter al ultimo elemento de nrc.txt\n",
    "while linea != \"\\n\":\n",
    "    tokens = nltk.word_tokenize(linea)\n",
    "    for token in tokens:\n",
    "        pal_senti_emoci.append(token)\n",
    "    nrc_lexicon.append(pal_senti_emoci)\n",
    "    pal_senti_emoci = []\n",
    "    linea = n.readline()\n",
    "n.close()"
   ]
  },
  {
   "cell_type": "markdown",
   "metadata": {},
   "source": [
    "Definiendo 7 emociones básicas + 2 sentimientos"
   ]
  },
  {
   "cell_type": "code",
   "execution_count": 4,
   "metadata": {},
   "outputs": [],
   "source": [
    "positive = 0 \n",
    "negative = 0\n",
    "anger = 0 \n",
    "fear = 0 \n",
    "surprise = 0 \n",
    "sadness = 0 \n",
    "joy = 0  \n",
    "disgust = 0"
   ]
  },
  {
   "cell_type": "markdown",
   "metadata": {},
   "source": [
    "Funcion de conteo de emociones"
   ]
  },
  {
   "cell_type": "code",
   "execution_count": 5,
   "metadata": {},
   "outputs": [],
   "source": [
    "def _nrc(pal_novela):\n",
    "    #print (\"Pal analizada:  \"+pal_novela)\n",
    "    global positive \n",
    "    global negative \n",
    "    global anger  \n",
    "    global fear  \n",
    "    global anticipation \n",
    "    global trust \n",
    "    global surprise \n",
    "    global sadness \n",
    "    global joy  \n",
    "    global disgust\n",
    "    global num_pal \n",
    "    global num_pal_emo \n",
    " \n",
    "    for emoWord in nrc_lexicon:\n",
    "        if emoWord[0] == pal_novela:\n",
    "            num_pal_emo += 1\n",
    "            if emoWord[1] == \"1\":\n",
    "                positive += 1\n",
    "            if emoWord[2] == \"1\":\n",
    "                negative += 1\n",
    "            if emoWord[3] == \"1\":\n",
    "                #print(\"anger\",\" con \", pal_novela)\n",
    "                anger += 1\n",
    "            #if emoWord[4] == \"1\":\n",
    "                #anticipation += 1\n",
    "            if emoWord[5] == \"1\":\n",
    "                #print(\"disgust\",\" con \", pal_novela)\n",
    "                disgust += 1\n",
    "            if emoWord[6] == \"1\":\n",
    "                #print(\"fear\",\" con \", pal_novela)\n",
    "                fear += 1\n",
    "            if emoWord[7] == \"1\":\n",
    "                #print(\"joy\",\" con \", pal_novela)\n",
    "                joy += 1\n",
    "            if emoWord[8] == \"1\":\n",
    "                #print(\"sadness\",\" con \", pal_novela)\n",
    "                sadness += 1\n",
    "            if emoWord[9] == \"1\":\n",
    "                #print(\"surprise\",\" con \", pal_novela)\n",
    "                surprise += 1\n",
    "            #if emoWord[10] == \"1\":\n",
    "                #trust += 1"
   ]
  },
  {
   "cell_type": "markdown",
   "metadata": {},
   "source": [
    "Compila lo siguiente, si vas a cambiar de libro, para que se limpie"
   ]
  },
  {
   "cell_type": "code",
   "execution_count": 35,
   "metadata": {},
   "outputs": [],
   "source": [
    "positive = 0 \n",
    "negative = 0\n",
    "anger = 0 \n",
    "fear = 0 \n",
    "surprise = 0 \n",
    "sadness = 0 \n",
    "joy = 0 \n",
    "disgust = 0\n",
    "num_pal = 0\n",
    "num_pal_emo = 0"
   ]
  },
  {
   "cell_type": "markdown",
   "metadata": {},
   "source": [
    "Leyendo toda el texto"
   ]
  },
  {
   "cell_type": "code",
   "execution_count": 36,
   "metadata": {},
   "outputs": [
    {
     "name": "stdout",
     "output_type": "stream",
     "text": [
      "done...\n"
     ]
    }
   ],
   "source": [
    "stopWords = set(stopwords.words('english'))\n",
    "tokenizer = RegexpTokenizer(r'\\w+')\n",
    "stemmer = SnowballStemmer(\"english\") #improve\n",
    "libro = \"Libros/road_total.txt\"\n",
    "f = open(libro, 'r+')\n",
    "linea = f.readline()\n",
    "while linea != \"\":    \n",
    "    if len(linea) > 1:\n",
    "            tokens = tokenizer.tokenize(linea)\n",
    "            for token in tokens:\n",
    "                token = token.lower()\n",
    "                if not token in stopWords:\n",
    "                    token = stemmer.stem(token)\n",
    "                    if not token.isdigit():\n",
    "                        num_pal += 1 \n",
    "                        _nrc(token)                    \n",
    "        \n",
    "    linea = f.readline()\n",
    "f.close()\n",
    "Palabras_SS = num_pal #Valor necesario para SubSeccion\n",
    "print(\"done...\")"
   ]
  },
  {
   "cell_type": "code",
   "execution_count": 37,
   "metadata": {},
   "outputs": [
    {
     "name": "stdout",
     "output_type": "stream",
     "text": [
      "679\n",
      "1016\n",
      "445\n",
      "1057\n",
      "554\n",
      "1109\n"
     ]
    }
   ],
   "source": [
    "print (anger)\n",
    "print (fear)\n",
    "print (surprise)\n",
    "print (sadness)\n",
    "print (joy)\n",
    "print (disgust)"
   ]
  },
  {
   "cell_type": "code",
   "execution_count": 38,
   "metadata": {},
   "outputs": [
    {
     "name": "stdout",
     "output_type": "stream",
     "text": [
      "anger =  679\n",
      "fear =  1016\n",
      "surprise =  445\n",
      "sadness =  1057\n",
      "joy =  554\n",
      "disgust =  1109\n",
      "\n",
      "\n",
      "positives =  1341\n",
      "negatives =  2493\n",
      "pal_total =  27598\n"
     ]
    }
   ],
   "source": [
    "print (\"anger = \",anger)\n",
    "print (\"fear = \",fear)\n",
    "print (\"surprise = \",surprise)\n",
    "print (\"sadness = \",sadness)\n",
    "print (\"joy = \",joy)\n",
    "print (\"disgust = \",disgust)\n",
    "print(\"\\n\")\n",
    "print (\"positives = \",positive)\n",
    "print (\"negatives = \",negative)\n",
    "print (\"pal_total = \",num_pal)"
   ]
  },
  {
   "cell_type": "markdown",
   "metadata": {},
   "source": [
    "Calculando Activity score && Joy-Sad de todo el texto"
   ]
  },
  {
   "cell_type": "code",
   "execution_count": 39,
   "metadata": {},
   "outputs": [
    {
     "name": "stdout",
     "output_type": "stream",
     "text": [
      "activity:  0.006\n",
      "joy-sad:  -0.0182\n"
     ]
    }
   ],
   "source": [
    "activas = (joy/num_pal + anger/num_pal) \n",
    "pasivas = sadness/num_pal\n",
    "print(\"activity: \",(round(activas-pasivas,3)))\n",
    "print(\"joy-sad: \",round(joy/num_pal - sadness/num_pal,4))"
   ]
  },
  {
   "cell_type": "markdown",
   "metadata": {},
   "source": [
    "Leyendo el texto po subsseciones"
   ]
  },
  {
   "cell_type": "code",
   "execution_count": 40,
   "metadata": {},
   "outputs": [],
   "source": [
    "def read_novel_secction(pal_novela,batch,sections):\n",
    "    global libro\n",
    "    global anger\n",
    "    global fear\n",
    "    global surprise\n",
    "    global sadness \n",
    "    global joy  \n",
    "    global disgust \n",
    "    global num_pal_emo\n",
    "    \n",
    "    num_pal = 0\n",
    "    num_pal_emo = 0\n",
    "    sec = 1\n",
    "    anger = 0 \n",
    "    fear = 0 \n",
    "    surprise = 0 \n",
    "    sadness = 0 \n",
    "    joy = 0  \n",
    "    disgust = 0\n",
    "    \n",
    "    de1 = []\n",
    "    de2 = []\n",
    "    #----\n",
    "    doe = []\n",
    "    dee = []\n",
    "    #----\n",
    "    de2 = []\n",
    "    dee2 = []\n",
    "    f = open(libro, 'r+')\n",
    "    linea = f.readline()\n",
    "    while linea != \"\":    \n",
    "        if len(linea) > 1:\n",
    "                tokens = tokenizer.tokenize(linea)\n",
    "                for token in tokens:\n",
    "                    token = token.lower()\n",
    "                    if not token in stopWords:\n",
    "                        token = stemmer.stem(token)\n",
    "                        if not token.isdigit():\n",
    "                            num_pal += 1 \n",
    "                            _nrc(token)  \n",
    "                        if num_pal == batch:\n",
    "                            print(\"--------------\",sec,\" con Batch: \", batch)\n",
    "                            '''print (\"anger  \",anger)\n",
    "                            print (\"fear  \",fear)\n",
    "                            print (\"surprise  \",surprise)\n",
    "                            print (\"sadness  \",sadness)\n",
    "                            print (\"joy  \",joy)\n",
    "                            print (\"disgust  \",disgust)\n",
    "                            #print (\"emocion  \",num_pal_emo)\n",
    "                            print(\"\\n\")'''\n",
    "                            #Obteniendo Info sobre densidades\n",
    "                            densidades = []\n",
    "                            densidades.append(anger)\n",
    "                            densidades.append(fear)\n",
    "                            densidades.append(surprise)\n",
    "                            densidades.append(sadness)\n",
    "                            densidades.append(joy)\n",
    "                            densidades.append(disgust)\n",
    "                            \n",
    "                            densidades = sorted(densidades)\n",
    "                            e1 = densidades[len(densidades)-1]\n",
    "                            e2 = densidades[len(densidades)-2]\n",
    "                            oe = num_pal_emo / num_pal\n",
    "                            '''print(\"Info:\")\n",
    "                            print(\"oe\", round(oe,3) )\n",
    "                            print(\"e1-pal\", round(e1 / num_pal,3) )\n",
    "                            print(\"e1-emo\", round(e1 / num_pal_emo,3) )\n",
    "                            print(\"e2-pal\", round(e2 / num_pal,3) )\n",
    "                            print(\"e2-emo\", round(e2 / num_pal_emo,3) )'''\n",
    "                            \n",
    "                            #Añadiendo Densidades\n",
    "                            de1.append(round(e1 / num_pal,3))\n",
    "                            de2.append(round(e2 / num_pal,3))\n",
    "                            \n",
    "                            #Probando otras densidades\n",
    "                            doe.append(round(oe,3))\n",
    "                            dee.append(round(e2 / num_pal_emo,3))\n",
    "                            \n",
    "                            #Densidades Emocion 2\n",
    "                            dee2.append(round(e1 / num_pal_emo,3))\n",
    "                            \n",
    "                            if sec == sections - 1: #Preguntamos si quedan pal restantes\n",
    "                                batch = pal_novela - (batch * sec)\n",
    "                            \n",
    "                            sec += 1\n",
    "                            #Reiniciando valores\n",
    "                            num_pal = 0\n",
    "                            num_pal_emo = 0\n",
    "                            anger = 0 \n",
    "                            fear = 0 \n",
    "                            surprise = 0 \n",
    "                            sadness = 0 \n",
    "                            joy = 0  \n",
    "                            disgust = 0\n",
    "\n",
    "        linea = f.readline()\n",
    "    print(\"Densidades\")\n",
    "    print(\"de1 = \",de1)\n",
    "    print(\"de2 = \",de2)\n",
    "    print(\"doe = \",doe)\n",
    "    f.close()"
   ]
  },
  {
   "cell_type": "markdown",
   "metadata": {},
   "source": [
    "Obteniendo los datos por subseccion"
   ]
  },
  {
   "cell_type": "code",
   "execution_count": 41,
   "metadata": {},
   "outputs": [
    {
     "name": "stdout",
     "output_type": "stream",
     "text": [
      "Num Pal:  27598\n",
      "3449\n",
      "-------------- 1  con Batch:  3449\n",
      "-------------- 2  con Batch:  3449\n",
      "-------------- 3  con Batch:  3449\n",
      "-------------- 4  con Batch:  3449\n",
      "-------------- 5  con Batch:  3449\n",
      "-------------- 6  con Batch:  3449\n",
      "-------------- 7  con Batch:  3449\n",
      "-------------- 8  con Batch:  3455\n",
      "Densidades\n",
      "de1 =  [0.046, 0.043, 0.045, 0.041, 0.033, 0.039, 0.042, 0.044]\n",
      "de2 =  [0.039, 0.039, 0.044, 0.035, 0.031, 0.037, 0.041, 0.041]\n",
      "doe =  [0.566, 0.534, 0.55, 0.54, 0.502, 0.534, 0.552, 0.545]\n",
      "done...\n"
     ]
    }
   ],
   "source": [
    "print(\"Num Pal: \",Palabras_SS)\n",
    "num_secciones = 8\n",
    "batch = floor(Palabras_SS / num_secciones)\n",
    "print(batch)\n",
    "read_novel_secction(Palabras_SS,batch,num_secciones)\n",
    "print(\"done...\")"
   ]
  },
  {
   "cell_type": "code",
   "execution_count": null,
   "metadata": {},
   "outputs": [],
   "source": []
  },
  {
   "cell_type": "code",
   "execution_count": null,
   "metadata": {},
   "outputs": [],
   "source": []
  },
  {
   "cell_type": "code",
   "execution_count": null,
   "metadata": {},
   "outputs": [],
   "source": []
  },
  {
   "cell_type": "code",
   "execution_count": null,
   "metadata": {},
   "outputs": [],
   "source": []
  },
  {
   "cell_type": "code",
   "execution_count": null,
   "metadata": {},
   "outputs": [],
   "source": []
  },
  {
   "cell_type": "code",
   "execution_count": null,
   "metadata": {},
   "outputs": [],
   "source": []
  }
 ],
 "metadata": {
  "kernelspec": {
   "display_name": "Python 3",
   "language": "python",
   "name": "python3"
  },
  "language_info": {
   "codemirror_mode": {
    "name": "ipython",
    "version": 3
   },
   "file_extension": ".py",
   "mimetype": "text/x-python",
   "name": "python",
   "nbconvert_exporter": "python",
   "pygments_lexer": "ipython3",
   "version": "3.6.5"
  }
 },
 "nbformat": 4,
 "nbformat_minor": 2
}
